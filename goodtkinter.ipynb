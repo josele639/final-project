{
 "cells": [
  {
   "cell_type": "code",
   "execution_count": 1,
   "metadata": {},
   "outputs": [],
   "source": [
    "from tkinter import *\n",
    "from tkinter import ttk\n",
    "from tkinter import filedialog\n",
    "from PIL import ImageTk, Image\n",
    "import get_words \n",
    "from tkinter import messagebox\n",
    "import cv2\n",
    "\n"
   ]
  },
  {
   "cell_type": "code",
   "execution_count": 12,
   "metadata": {},
   "outputs": [],
   "source": [
    "class Aplicacion():\n",
    "    def __init__(self):\n",
    "    \n",
    "        self.raiz = Tk()\n",
    "        self.raiz.geometry('450x700')\n",
    "        #self.raiz.resizable(width=False,height=False)\n",
    "        self.raiz.title('WordToAll')\n",
    "        \n",
    "        self.subtitulo = Label (self.raiz, text=\"Introduce la imagen a la que quieres traducir el texto\",font=(\"Arial Bold\", 10))\n",
    "        self.subtitulo.grid(column=0, row=1)\n",
    "\n",
    "        #self.l1.pack(side=TOP)\n",
    "        \n",
    "        #self.txt.grid(column=1, row=0)\n",
    " \n",
    "        \n",
    "        #self.tinfo = Text(self.raiz, width=30, height=15)\n",
    "        #self.tinfo.grid(column=0, row=2)\n",
    "\n",
    "        \n",
    "        #Meter foto\n",
    "        self.binfo = ttk.Button(self.raiz, text='Importar Imagen', \n",
    "                                command=self.meter_foto)\n",
    "        self.binfo.grid(column=0, row=3)\n",
    "\n",
    "        #IDioma texto\n",
    "        self.idi_text = Label (self.raiz, text=\"¿En que idioma esta el texto de la foto?\",font=(\"Arial Bold\", 10))\n",
    "        self.idi_text.grid(column=0, row=6)\n",
    "        \n",
    "        #Caja idiomas\n",
    "        self.boxidioma = ttk.Combobox(self.raiz)\n",
    "        self.boxidioma['values']= (\"eng\", \"esp\", \"fra\" , 4, 5, \"Text\")\n",
    "        self.boxidioma.grid(column=0, row=7)\n",
    "        number =  self.boxidioma.get()      \n",
    "        \n",
    "        #Traducir\n",
    "        self.tradu = Label (self.raiz, text=\"¿A que idioma quieres traducirlo?\",font=(\"Arial Bold\", 10))\n",
    "        self.tradu.grid(column=0, row=8)\n",
    "        \n",
    "        #Caja tracuccion\n",
    "        self.boxtraductor = ttk.Combobox(self.raiz)\n",
    "        self.boxtraductor['values']= (\"eng\", \"esp\", \"fra\" , 4, 5, \"Text\")\n",
    "        self.boxtraductor.grid(column=0, row=9)\n",
    "        \n",
    "        #Meter foto\n",
    "        self.binfo = ttk.Button(self.raiz, text='Traducir', \n",
    "                                command=lambda:self.traducir(pic))\n",
    "        self.binfo.grid(column=0, row=10)\n",
    "        \n",
    "    \n",
    "        \n",
    "        #Traducir\n",
    "        \n",
    "        #Salir\n",
    "        self.bsalir = ttk.Button(self.raiz, text='Salir', \n",
    "                                 command=self.raiz.destroy)\n",
    "        self.bsalir.grid(column=0, row=200)\n",
    "        \n",
    "        #####importante######\n",
    "        #text.place(x=70,y=90) #Para ordenar todo\n",
    "        \n",
    "        # El foco de la aplicación se sitúa en el botón\n",
    "        # 'self.binfo' resaltando su borde. Si se presiona\n",
    "        # la barra espaciadora el botón que tiene el foco\n",
    "        # será pulsado. El foco puede cambiar de un widget\n",
    "        # a otro con la tecla tabulador [tab]\n",
    "        \n",
    "        self.binfo.focus_set()\n",
    "        self.raiz.mainloop()\n",
    "        \n",
    "    def meter_foto(self):\n",
    "        global pic\n",
    "        global tkimage\n",
    "        \n",
    "        pic = filedialog.askopenfilename()\n",
    "        \n",
    "        img = Image.open(pic)\n",
    "        img.thumbnail((300,300), Image.ANTIALIAS)\n",
    "        tkimage = ImageTk.PhotoImage(img)\n",
    "        \n",
    "        self.bsalir= Label(self.raiz, image=tkimage, width=300, height=300)\n",
    "        self.bsalir.grid(column=0, row=2) \n",
    "    \n",
    "    def traducir(self,pic): \n",
    "        frase = get_words.image_to_text(pic,10,0.05)\n",
    "        #aqui meter la funcion de traduccion y que sus argumentos sean los gets de las casillas de arriba.\n",
    "        self.traducido =Label(self.raiz, text=frase)\n",
    "        \n",
    "        self.traducido.grid(column=0, row=20)\n",
    "    \n",
    "\n",
    "    def main():\n",
    "        mi_app = Aplicacion()\n",
    "        return 0\n",
    "    \n"
   ]
  },
  {
   "cell_type": "code",
   "execution_count": 13,
   "metadata": {},
   "outputs": [
    {
     "name": "stdout",
     "output_type": "stream",
     "text": [
      "[INFO] loading EAST text detector...\n",
      "[INFO] text detection took 0.125602 seconds\n",
      "FUNCIONA BIEN\n"
     ]
    },
    {
     "ename": "NameError",
     "evalue": "name 'number' is not defined",
     "output_type": "error",
     "traceback": [
      "\u001b[0;31m---------------------------------------------------------------------------\u001b[0m",
      "\u001b[0;31mNameError\u001b[0m                                 Traceback (most recent call last)",
      "\u001b[0;32m<ipython-input-13-2a18a3dc5548>\u001b[0m in \u001b[0;36m<module>\u001b[0;34m\u001b[0m\n\u001b[1;32m      2\u001b[0m     \u001b[0mmain\u001b[0m\u001b[0;34m(\u001b[0m\u001b[0;34m)\u001b[0m\u001b[0;34m\u001b[0m\u001b[0;34m\u001b[0m\u001b[0m\n\u001b[1;32m      3\u001b[0m \u001b[0;34m\u001b[0m\u001b[0m\n\u001b[0;32m----> 4\u001b[0;31m \u001b[0mprint\u001b[0m\u001b[0;34m(\u001b[0m\u001b[0mnumber\u001b[0m\u001b[0;34m)\u001b[0m\u001b[0;34m\u001b[0m\u001b[0;34m\u001b[0m\u001b[0m\n\u001b[0m",
      "\u001b[0;31mNameError\u001b[0m: name 'number' is not defined"
     ]
    }
   ],
   "source": [
    "if __name__ == '__main__':\n",
    "    main()\n",
    "    \n",
    "print(number)"
   ]
  }
 ],
 "metadata": {
  "kernelspec": {
   "display_name": "Python 3",
   "language": "python",
   "name": "python3"
  },
  "language_info": {
   "codemirror_mode": {
    "name": "ipython",
    "version": 3
   },
   "file_extension": ".py",
   "mimetype": "text/x-python",
   "name": "python",
   "nbconvert_exporter": "python",
   "pygments_lexer": "ipython3",
   "version": "3.6.8"
  }
 },
 "nbformat": 4,
 "nbformat_minor": 4
}
