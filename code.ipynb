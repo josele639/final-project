{
 "cells": [
  {
   "cell_type": "code",
   "execution_count": 468,
   "metadata": {},
   "outputs": [],
   "source": [
    "from PIL import Image\n",
    "import pandas as pd\n",
    "import numpy as np\n",
    "import cv2\n",
    "import os\n",
    "import sys\n",
    "import time\n",
    "from matplotlib.pyplot import imshow as ims\n",
    "import matplotlib\n",
    "import pytesseract \n",
    "import pylab as pl\n",
    "import math\n",
    "\n",
    "import box_to_order\n",
    "import improve_img\n",
    "import get_text\n",
    "\n",
    "#instalar imutils\n",
    "from imutils.object_detection import non_max_suppression"
   ]
  },
  {
   "cell_type": "code",
   "execution_count": null,
   "metadata": {},
   "outputs": [],
   "source": [
    "Siguientes pasos:\n",
    "# Lo primero es arreglar lo del orden, pedir a Noelia ayuda.\n",
    "# Definir que voy a hacer con las frases que consiga - Audio, texto y traducción y a pdf(quiza)\n",
    "# Hacer la interfaz visual donde meter las fotos y que haga lo que le comentes.\n",
    "# A partir de ahi ya mejorar el reconocimiento de texto a muerte\n",
    "\n"
   ]
  },
  {
   "cell_type": "code",
   "execution_count": 2,
   "metadata": {},
   "outputs": [],
   "source": [
    "def preparar_imagen(imagen,alto, ancho):#cogemos imagen\n",
    "    image = cv2.imread(imagen)\n",
    "    #hacemos copia\n",
    "    orig = image.copy()\n",
    "    \n",
    "    #orig = tratar_imagen(orig)\n",
    "    #orig = tratar_img_2(orig)\n",
    "\n",
    "    #orig = cv2.cvtColor(orig, cv2.COLOR_BGR2GRAY)\n",
    "    #sacamos alto y ancho\n",
    "    (H, W) = image.shape[:2]\n",
    "    #ponemos el nuevo alto y ancho, ¿PORQUE? Para hacerlo multiplo de 32, que se ajuste por tipo de pixel\n",
    "    (newW, newH) = (alto, ancho)\n",
    "    rW = W / float(newW)\n",
    "    rH = H / float(newH)\n",
    "    #lo aplicamos a la imagen y sacamos H y W de nuevo\n",
    "    image = cv2.resize(image, (newW, newH))\n",
    "    (H, W) = image.shape[:2]\n",
    "    \n",
    "    return orig, image, rW, rH, H, W"
   ]
  },
  {
   "cell_type": "code",
   "execution_count": 3,
   "metadata": {},
   "outputs": [],
   "source": [
    "#funcion para detectar las palabra y etiquetar los puntos\n",
    "def detectar_palabras(image, H, W):\n",
    "    #nombre de las etiquetas principales, REVISAR\n",
    "    layerNames = [\"feature_fusion/Conv_7/Sigmoid\",\"feature_fusion/concat_3\"]\n",
    "    #Importamos el detector de texto, REVISAR que es el EAST\n",
    "    print(\"[INFO] loading EAST text detector...\")\n",
    "    #type=str\n",
    "    \n",
    "   \n",
    "    \n",
    "    net = cv2.dnn.readNet(\"frozen_east_text_detection.pb\")\n",
    "    #net = cv2.dnn.readNetFromDarknet(frozen_east_text_detection.pb)\n",
    "    #Construimos el cuadrito que va a rodear la imagen\n",
    "    blob = cv2.dnn.blobFromImage(image, 1.0, (W, H),(123.68, 116.78, 103.94), swapRB=True, crop=False)\n",
    "    start = time.time()\n",
    "    net.setInput(blob)\n",
    "    (scores, geometry) = net.forward(layerNames)\n",
    "    end = time.time()\n",
    "\n",
    "    #Muestra info sobre cuanto ha tardado en detectarlo\n",
    "    print(\"[INFO] text detection took {:.6f} seconds\".format(end - start))\n",
    "\n",
    "    #Construimos los planos para meter los cuadritos alrrededor de los textos\n",
    "    #numRows te da el numero de palabras identificadas por sus\n",
    "    (numRows, numCols) = scores.shape[2:4]\n",
    "    \n",
    "    \n",
    "    return numRows, numCols, scores, geometry"
   ]
  },
  {
   "cell_type": "code",
   "execution_count": 4,
   "metadata": {},
   "outputs": [],
   "source": [
    "def get_esquinas(numRows, numCols, scores, geometry):\n",
    "    rects = []\n",
    "    confidences = []\n",
    "    for y in range(0, numRows):\n",
    "        #Con los scores, probabilidad de que este bien, seguido de los\n",
    "        #punto geometricos los ponemos en el texto para saber donde estan \n",
    "\n",
    "        scoresData = scores[0, 0, y]\n",
    "        xData0 = geometry[0, 0, y]\n",
    "        xData1 = geometry[0, 1, y]\n",
    "        xData2 = geometry[0, 2, y]\n",
    "        xData3 = geometry[0, 3, y]\n",
    "        anglesData = geometry[0, 4, y]\n",
    "\n",
    "        # loop sobre el numero de columnas\n",
    "        for x in range(0, numCols):\n",
    "            #metemos una variable de que si no hay suficiente confianza no lo meta, INVESTIGAR Y DECIDIR\n",
    "            if scoresData[x] < 0.05: #args[\"min_confidence\"]:\n",
    "                continue\n",
    "\n",
    "            # compute the offset factor as our resulting feature maps will\n",
    "            # be 4x smaller than the input image\n",
    "            # La imagen sera 4 veces mas pequeña?\n",
    "            (offsetX, offsetY) = (x * 4.0, y * 4.0)\n",
    "\n",
    "            #Extraer el angulo del texto para poder poner el recuadro girado\n",
    "            angle = anglesData[x]\n",
    "            cos = np.cos(angle)\n",
    "            sin = np.sin(angle)\n",
    "\n",
    "            # use the geometry volume to derive the width and height of\n",
    "            # the bounding box\n",
    "\n",
    "            h = xData0[x] + xData2[x]\n",
    "            w = xData1[x] + xData3[x]\n",
    "\n",
    "            \"\"\"# compute both the starting and ending (x, y)-coordinates for\n",
    "            # the text prediction bounding box\"\"\"\n",
    "\n",
    "            #Crear los puntos exactos donde se debe poner el recuadro\n",
    "            endX = int(offsetX + (cos * xData1[x]) + (sin * xData2[x]))\n",
    "            endY = int(offsetY - (sin * xData1[x]) + (cos * xData2[x]))\n",
    "            startX = int(endX - w)\n",
    "            startY = int(endY - h)\n",
    "\n",
    "\n",
    "            #Añadirlo a la lista de cuadros y de confianza\n",
    "            rects.append((startX, startY, endX, endY))\n",
    "            confidences.append(scoresData[x])\n",
    "            \n",
    "            \n",
    "            \n",
    "    return rects, confidences"
   ]
  },
  {
   "cell_type": "code",
   "execution_count": 473,
   "metadata": {},
   "outputs": [],
   "source": [
    "def recortar_palabras(orig, rects, confidences, rW, rH, padding , H, W):\n",
    "\n",
    "    #confThreshold = 0.4\n",
    "    #nmsThreshold = 0.5\n",
    "    boxes = non_max_suppression(np.array(rects), probs=confidences)\n",
    "    #indices = cv2.dnn.NMSBoxesRotated(rects, confidences, confThreshold, nmsThreshold)\n",
    "    palabras_separadas = []\n",
    "    \n",
    "    boxes = get_orden(boxes)\n",
    "\n",
    "    # loop over the bounding boxes\n",
    "    for (startX, startY, endX, endY) in boxes:\n",
    "        #Hacemos un reescalado del cuadrito identificador acorde al que hicimos al principio.\n",
    "        startX = int(startX * rW)\n",
    "        if int(startX - (startX * padding))  > 0:\n",
    "            startX = int(startX - (startX * padding))\n",
    "        startY = int(startY * rH)\n",
    "        if int(startY - (startY * padding)) > 0:\n",
    "            startY = int(startY - (startY * padding))\n",
    "        endX = int(endX * rW)\n",
    "        if int(endX + (endX * padding)) > 0:\n",
    "            endX = int(endX + (endX * padding))\n",
    "        endY = int(endY * rH)\n",
    "        if int(endY + (endY * padding)) > 0:\n",
    "            endY = int(endY + (endY * padding))\n",
    "        \n",
    "        #dX = int((endX - startX) * padding)\n",
    "        #dY = int((endY - startY) * padding)\n",
    "        \n",
    "        #startX = max(0, startX - dX)\n",
    "        #startY = max(0, startY - dY)\n",
    "        #endX = min(W, endX + (dX * 2))\n",
    "        #endY = min(H, endY + (dY * 2))\n",
    "        \n",
    "        #Dibujar el rectangulo alrededor del texto en la imagen.\n",
    "        crop = orig[startY:endY,startX:endX]\n",
    "        cv2.rectangle(orig, (startX, startY), (endX, endY), (0, 255, 0), 3)\n",
    "        palabras_separadas.append(crop)\n",
    "        \n",
    "        # extract the actual padded ROI\n",
    "        roi = orig[startY:endY, startX:endX]\n",
    "\n",
    "    #print('Sx:',startX)\n",
    "    #print('Sy:',startY)\n",
    "    #print('Ex:',endX)\n",
    "    #print('Ey:',endY)\n",
    "    #print('Has conseguido {} palabras'.format(len(palabras_separadas)))\n",
    "    \n",
    "    return palabras_separadas, orig, boxes\n",
    "    # Mostrar la imagen ya con el texto detectado\n",
    "    #cv2.imshow(\"Text Detection\", orig)\n",
    "    #cv2.waitKey(0)\n",
    "    #cv2.destroyAllWindows()\n",
    "\n"
   ]
  },
  {
   "cell_type": "code",
   "execution_count": 6,
   "metadata": {},
   "outputs": [],
   "source": [
    "#Funcion para el OCR\n",
    "def ocr(imagen):\n",
    "    config = (\"-l eng --oem 1 --psm 7\")\n",
    "    text = pytesseract.image_to_string(imagen, config=config)\n",
    "    if text:\n",
    "        print(text)\n",
    "        return text\n",
    "    else:\n",
    "        print(\"No ha detectado nada\")\n",
    "    \n",
    "    \n",
    "#-l eng"
   ]
  },
  {
   "cell_type": "code",
   "execution_count": 458,
   "metadata": {},
   "outputs": [],
   "source": [
    "def prueba_1(nombre_imagen, size, resize = True, tratar = True, tratar_mas=True):\n",
    "    orig, image, rW, rH, H, W = preparar_imagen(nombre_imagen,32*size,32*size) #Multiplicar 32 por algo para hacer su multiplo\n",
    "    numRows, numCols, scores, geometry = detectar_palabras(image, H, W)\n",
    "    rects, confidences = get_esquinas(numRows, numCols, scores, geometry)\n",
    "    palabras, orig, boxes = recortar_palabras(orig, rects, confidences,rW, rH, 0.01 , H, W)\n",
    "    imagenes_finales = []\n",
    "    #return palabras\n",
    "    palabras_text = []\n",
    "    for i in range(len(palabras)):\n",
    "        if resize:\n",
    "            imagen_resize = improve_img.resize_imagen(palabras[i],100)\n",
    "        if tratar:\n",
    "            imagen_tratada = improve_img.tratar_imagen(imagen_resize)\n",
    "        if tratar_mas:\n",
    "            imagen_final = improve_img.tratar_img_2(imagen_tratada)\n",
    "        else:\n",
    "            imagen_final = palabras[i]\n",
    "    \n",
    "            \n",
    "        imagenes_finales.append(imagen_final) \n",
    "        ocrtext = get_text.ocr(imagenes_finales[i])\n",
    "        palabras_text.append(ocrtext)\n",
    "    return orig, imagenes_finales, palabras_text, \n"
   ]
  },
  {
   "cell_type": "code",
   "execution_count": 475,
   "metadata": {},
   "outputs": [
    {
     "name": "stdout",
     "output_type": "stream",
     "text": [
      "[INFO] loading EAST text detector...\n",
      "[INFO] text detection took 0.561515 seconds\n",
      "(64, 100, 3)\n",
      "L2\n",
      "(27, 100, 3)\n",
      "mesa\n",
      "(69, 100, 3)\n",
      "de\n",
      "(49, 100, 3)\n",
      "ping\n",
      "(34, 100, 3)\n",
      "pong\n",
      "(39, 100, 3)\n",
      "solo\n",
      "(37, 100, 3)\n",
      "podra\n",
      "(20, 100, 3)\n",
      "usarse\n",
      "(20, 100, 3)\n",
      "durante\n",
      "(78, 100, 3)\n",
      "el\n",
      "(23, 100, 3)\n",
      "horario\n",
      "(64, 100, 3)\n",
      "de\n",
      "(23, 100, 3)\n",
      "comida\n",
      "(15, 100, 3)\n",
      "Comprendido\n",
      "(31, 100, 3)\n",
      "entre\n",
      "(53, 100, 3)\n",
      "las\n",
      "(32, 100, 3)\n",
      "13:00\n",
      "(55, 100, 3)\n",
      "las\n",
      "(34, 100, 3)\n",
      "15:00\n",
      "(40, 100, 3)\n",
      "IRON!\n",
      "(38, 100, 3)\n",
      "=ria'@\n"
     ]
    }
   ],
   "source": [
    "orig, imagenes_finales, palabras_text = prueba_1(\"tesseract-python/ping.jpeg\",20)"
   ]
  },
  {
   "cell_type": "code",
   "execution_count": 133,
   "metadata": {},
   "outputs": [],
   "source": [
    "#Libreria leer foto, pruebas.\n",
    "#imagen = cv2.imread(\"tesseract-python/piz1.jpeg\")\n",
    "#ocrtext1 = get_text.ocr(imagen)"
   ]
  },
  {
   "cell_type": "code",
   "execution_count": 452,
   "metadata": {},
   "outputs": [],
   "source": [
    "def unificar_texto(palabras_text):\n",
    "    palabra_unida = ' '.join(palabras_text)\n",
    "    print(palabra_unida)\n",
    "    return palabra_unida"
   ]
  },
  {
   "cell_type": "code",
   "execution_count": 453,
   "metadata": {},
   "outputs": [
    {
     "name": "stdout",
     "output_type": "stream",
     "text": [
      "L2 mesa de ping pong solo podra usarse durante el horario de comida 13:00 Comprendido las entre 15:00 las IRON! =ria'@\n"
     ]
    }
   ],
   "source": [
    "frase = unificar_texto(palabras_text)"
   ]
  },
  {
   "cell_type": "code",
   "execution_count": 443,
   "metadata": {},
   "outputs": [],
   "source": [
    "from gtts import gTTS  \n",
    "import os \n",
    "from pydub import AudioSegment\n",
    "from pydub.playback import play\n",
    "  \n",
    "\n",
    "def get_audio(palabra_unida):\n",
    "    mytext = palabra_unida\n",
    "    myobj = gTTS(mytext, lang='es-us')    \n",
    "    myobj.save(\"welcome.mp3\")\n",
    "    song = AudioSegment.from_mp3(\"welcome.mp3\")\n",
    "    play(song)\n"
   ]
  },
  {
   "cell_type": "code",
   "execution_count": 447,
   "metadata": {},
   "outputs": [],
   "source": [
    "get_audio(frase)"
   ]
  },
  {
   "cell_type": "code",
   "execution_count": 409,
   "metadata": {},
   "outputs": [],
   "source": [
    "lista_cord = [[ 22 ,218, 197, 280], #5\n",
    " [201 ,212 ,298, 281], #6\n",
    " [ 56  ,38 ,149 ,106], #1\n",
    " [156 ,130 ,214 ,191], #4\n",
    " [103 ,138 ,143 ,192], #3\n",
    " [157  ,39 ,274 ,110]] #2"
   ]
  },
  {
   "cell_type": "code",
   "execution_count": 455,
   "metadata": {},
   "outputs": [],
   "source": [
    "lista_cord = np.array(lista_cord)"
   ]
  },
  {
   "cell_type": "code",
   "execution_count": 474,
   "metadata": {},
   "outputs": [],
   "source": [
    "##Porque no funciona si lo paso al visual\n",
    "\n",
    "def get_orden(lista_cord):\n",
    "    total_centro = []\n",
    "    definicion={}\n",
    "    count = 0\n",
    "    #Creando los puntos centrales.\n",
    "    lista_cord.tolist()\n",
    "    \n",
    "    for i in lista_cord:\n",
    "        count += 1\n",
    "        centro=[]\n",
    "        A = int((i[0] + i[2])/2)\n",
    "        centro.append(A)\n",
    "        B = int((i[1] + i[3])/2)\n",
    "        centro.append(B)\n",
    "        centro.append(count)\n",
    "        total_centro.append(centro)\n",
    "       \n",
    "    #Sacando los rangos. \n",
    "    total_rangos_y=[]\n",
    "    for i in lista_cord:\n",
    "        rango=[]\n",
    "        A = abs(int((i[1] - i[3])/2))\n",
    "    for c in total_centro:\n",
    "        rangos_y = []\n",
    "        B_1 = c[1] + A\n",
    "        rangos_y.append(B_1)\n",
    "        B_2 = c[1] - A\n",
    "        rangos_y.append(B_2)\n",
    "        rangos_y.append(c[0])\n",
    "        rangos_y.append(c[2])\n",
    "        total_rangos_y.append(rangos_y)\n",
    "    \n",
    "    \n",
    "    #Creando los grupos de los rangos\n",
    "    rangos_ordenados= sorted(total_rangos_y)\n",
    "    gas = []\n",
    "    for r_y in range(len(rangos_ordenados)):\n",
    "        que_rango=[]\n",
    "        que_rango.append(rangos_ordenados[r_y])\n",
    "        for r_y2 in range(len(rangos_ordenados)):\n",
    "            if rangos_ordenados[r_y][0] <= rangos_ordenados[r_y2][0]*1.1 and rangos_ordenados[r_y][1] >= rangos_ordenados[r_y2][1]*0.9:\n",
    "                que_rango.append(r_y2)\n",
    "        gas.append(que_rango)\n",
    "        \n",
    "    #Si solo con rangos no funciona.\n",
    "    #for grupos in range(len(gas)):\n",
    "        #for n_grupos in range(len(gas)):\n",
    "            #if gas[grupos][2] == gas[n_grupos][2] and gas[grupos][2] == gas[n_grupos][2]:\n",
    "                #print('Tikit')\n",
    "                \n",
    "    #Ordenando primero por la x y luego por la y, ya tenemos el orden correcto.\n",
    "    from operator import itemgetter\n",
    "    import operator \n",
    "    #gas = sorted(gas, key=operator.itemgetter(1, 2))\n",
    "    gas.sort(key=lambda x: x[0][2])\n",
    "    gas.sort(key=lambda x: x[1]) \n",
    "\n",
    "    \n",
    "    #Crear una lista con las posiciones que deberian ser\n",
    "    orden_final=[]\n",
    "    cuenta = 0\n",
    "    for orden in gas:\n",
    "        l_cuenta=[]\n",
    "        cuenta += 1\n",
    "        l_cuenta.append(cuenta)\n",
    "        l_cuenta.append(orden[0][3])\n",
    "        orden_final.append(l_cuenta)\n",
    "    \n",
    "    #Meter toda la info en un dicc\n",
    "    for num in range(len(total_centro)):\n",
    "        definicion[num]='Centros:',total_centro[num],'Rangos y:', gas[num], 'Orden:',orden_final[num]\n",
    "        orden_final[num]=orden_final[num]\n",
    "    \n",
    "    #Añadir a cada source su posicion concreta\n",
    "    lista_cord_copy = lista_cord.tolist()\n",
    " \n",
    "    for i in range(1,len(lista_cord)+1):\n",
    "        for j in orden_final:          \n",
    "                if i == j[1]:\n",
    "                    lista_cord_copy[i-1].append(j[0])\n",
    "                    #lista_cord_copy[3] = j[0]\n",
    "                    pass\n",
    "    \n",
    "    \n",
    "    #ordenando por posicion.\n",
    "    lista_cord_copy.sort(key=lambda x: x[4])\n",
    "    \n",
    "    for i in range(len(lista_cord_copy)):\n",
    "          lista_cord_copy[i].pop(4)\n",
    "    \n",
    "    \n",
    "    lista_cord_copy = abs(np.array(lista_cord_copy))\n",
    "    return lista_cord_copy\n",
    "            \n"
   ]
  },
  {
   "cell_type": "code",
   "execution_count": 476,
   "metadata": {},
   "outputs": [
    {
     "data": {
      "text/plain": [
       "array([[ 54, 112,  93, 145],\n",
       "       [108, 115, 202, 148],\n",
       "       [216, 109, 257, 149],\n",
       "       [269, 111, 339, 158],\n",
       "       [352, 118, 439, 159],\n",
       "       [450, 113, 521, 153],\n",
       "       [ 86, 165, 181, 211],\n",
       "       [189, 176, 309, 206],\n",
       "       [318, 172, 453, 207],\n",
       "       [466, 171, 495, 207],\n",
       "       [131, 223, 256, 259],\n",
       "       [270, 226, 310, 260],\n",
       "       [315, 226, 445, 263],\n",
       "       [ 83, 293, 324, 338],\n",
       "       [335, 298, 422, 331],\n",
       "       [433, 298, 482, 333],\n",
       "       [151, 346, 246, 381],\n",
       "       [284, 350, 331, 382],\n",
       "       [353, 349, 434, 382],\n",
       "       [255, 470, 333, 506],\n",
       "       [256, 506, 336, 539]])"
      ]
     },
     "execution_count": 476,
     "metadata": {},
     "output_type": "execute_result"
    }
   ],
   "source": [
    "gasgas = np.array(gasgas)\n",
    "total_centro = get_orden(gasgas)\n",
    "total_centro "
   ]
  },
  {
   "cell_type": "code",
   "execution_count": 477,
   "metadata": {},
   "outputs": [
    {
     "data": {
      "text/plain": [
       "array([[ 54, 112,  93, 145],\n",
       "       [108, 115, 202, 148],\n",
       "       [216, 109, 257, 149],\n",
       "       [269, 111, 339, 158],\n",
       "       [352, 118, 439, 159],\n",
       "       [450, 113, 521, 153],\n",
       "       [ 86, 165, 181, 211],\n",
       "       [189, 176, 309, 206],\n",
       "       [318, 172, 453, 207],\n",
       "       [466, 171, 495, 207],\n",
       "       [131, 223, 256, 259],\n",
       "       [270, 226, 310, 260],\n",
       "       [315, 226, 445, 263],\n",
       "       [ 83, 293, 324, 338],\n",
       "       [335, 298, 422, 331],\n",
       "       [433, 298, 482, 333],\n",
       "       [151, 346, 246, 381],\n",
       "       [284, 350, 331, 382],\n",
       "       [353, 349, 434, 382],\n",
       "       [255, 470, 333, 506],\n",
       "       [256, 506, 336, 539]])"
      ]
     },
     "execution_count": 477,
     "metadata": {},
     "output_type": "execute_result"
    }
   ],
   "source": [
    "total_centro"
   ]
  },
  {
   "cell_type": "code",
   "execution_count": 151,
   "metadata": {},
   "outputs": [
    {
     "ename": "AttributeError",
     "evalue": "'dict' object has no attribute 'sort'",
     "output_type": "error",
     "traceback": [
      "\u001b[0;31m---------------------------------------------------------------------------\u001b[0m",
      "\u001b[0;31mAttributeError\u001b[0m                            Traceback (most recent call last)",
      "\u001b[0;32m<ipython-input-151-978e4d4d8b46>\u001b[0m in \u001b[0;36m<module>\u001b[0;34m\u001b[0m\n\u001b[1;32m      1\u001b[0m \u001b[0;32mfrom\u001b[0m \u001b[0moperator\u001b[0m \u001b[0;32mimport\u001b[0m \u001b[0mitemgetter\u001b[0m\u001b[0;34m\u001b[0m\u001b[0;34m\u001b[0m\u001b[0m\n\u001b[0;32m----> 2\u001b[0;31m \u001b[0mtotal_centro\u001b[0m\u001b[0;34m.\u001b[0m\u001b[0msort\u001b[0m\u001b[0;34m(\u001b[0m\u001b[0mkey\u001b[0m\u001b[0;34m=\u001b[0m\u001b[0mitemgetter\u001b[0m\u001b[0;34m(\u001b[0m\u001b[0;36m0\u001b[0m\u001b[0;34m)\u001b[0m\u001b[0;34m)\u001b[0m\u001b[0;34m\u001b[0m\u001b[0;34m\u001b[0m\u001b[0m\n\u001b[0m",
      "\u001b[0;31mAttributeError\u001b[0m: 'dict' object has no attribute 'sort'"
     ]
    }
   ],
   "source": [
    "from operator import itemgetter\n",
    "total_centro.sort(key=itemgetter(0))"
   ]
  },
  {
   "cell_type": "code",
   "execution_count": null,
   "metadata": {},
   "outputs": [],
   "source": [
    "#Cemtro +- altura/2 = rango\n",
    "Orde"
   ]
  },
  {
   "cell_type": "code",
   "execution_count": 152,
   "metadata": {},
   "outputs": [
    {
     "data": {
      "text/plain": [
       "{0: [120, 238],\n",
       " 1: [206, 289],\n",
       " 2: [47, 127],\n",
       " 3: [143, 202],\n",
       " 4: [120, 167],\n",
       " 5: [98, 192]}"
      ]
     },
     "execution_count": 152,
     "metadata": {},
     "output_type": "execute_result"
    }
   ],
   "source": [
    "total_centro"
   ]
  },
  {
   "cell_type": "code",
   "execution_count": 20,
   "metadata": {},
   "outputs": [
    {
     "data": {
      "text/plain": [
       "<matplotlib.collections.PathCollection at 0x7f43e1054128>"
      ]
     },
     "execution_count": 20,
     "metadata": {},
     "output_type": "execute_result"
    },
    {
     "data": {
      "image/png": "[encoded data removed]",
      "text/plain": [
       "<Figure size 432x288 with 1 Axes>"
      ]
     },
     "metadata": {
      "needs_background": "light"
     },
     "output_type": "display_data"
    }
   ],
   "source": [
    "pl.scatter(total_centro[0][0],total_centro[0][1])\n",
    "\n",
    "#Con el centro calculado lo siguiente seria buscar un patron que sea capaz de poner en su lugar cada palabra"
   ]
  },
  {
   "cell_type": "code",
   "execution_count": 19,
   "metadata": {},
   "outputs": [
    {
     "ename": "NameError",
     "evalue": "name 'partes_imagen' is not defined",
     "output_type": "error",
     "traceback": [
      "\u001b[0;31m---------------------------------------------------------------------------\u001b[0m",
      "\u001b[0;31mNameError\u001b[0m                                 Traceback (most recent call last)",
      "\u001b[0;32m<ipython-input-19-6765e139f5c2>\u001b[0m in \u001b[0;36m<module>\u001b[0;34m\u001b[0m\n\u001b[0;32m----> 1\u001b[0;31m \u001b[0mcv2\u001b[0m\u001b[0;34m.\u001b[0m\u001b[0mimshow\u001b[0m\u001b[0;34m(\u001b[0m\u001b[0;34m\"gas\"\u001b[0m\u001b[0;34m,\u001b[0m\u001b[0mpartes_imagen\u001b[0m\u001b[0;34m[\u001b[0m\u001b[0;36m5\u001b[0m\u001b[0;34m]\u001b[0m\u001b[0;34m)\u001b[0m\u001b[0;34m\u001b[0m\u001b[0;34m\u001b[0m\u001b[0m\n\u001b[0m\u001b[1;32m      2\u001b[0m \u001b[0mcv2\u001b[0m\u001b[0;34m.\u001b[0m\u001b[0mwaitKey\u001b[0m\u001b[0;34m(\u001b[0m\u001b[0;36m0\u001b[0m\u001b[0;34m)\u001b[0m\u001b[0;34m\u001b[0m\u001b[0;34m\u001b[0m\u001b[0m\n",
      "\u001b[0;31mNameError\u001b[0m: name 'partes_imagen' is not defined"
     ]
    }
   ],
   "source": [
    "cv2.imshow(\"gas\",partes_imagen[5])\n",
    "cv2.waitKey(0)"
   ]
  },
  {
   "cell_type": "code",
   "execution_count": 188,
   "metadata": {},
   "outputs": [],
   "source": [
    "#gray = cv2.cvtColor(img, cv2.COLOR_GRAY2RGB)"
   ]
  },
  {
   "cell_type": "code",
   "execution_count": 18,
   "metadata": {},
   "outputs": [],
   "source": [
    "#gray = cv2.cvtColor(resized, cv2.COLOR_BGR2GRAY)\n"
   ]
  },
  {
   "cell_type": "code",
   "execution_count": 200,
   "metadata": {},
   "outputs": [],
   "source": [
    "#Para pasar a blanco y negro\n",
    "#(thresh, blackAndWhiteImage) = cv2.threshold(gray, 127, 255, cv2.THRESH_BINARY)"
   ]
  },
  {
   "cell_type": "code",
   "execution_count": 202,
   "metadata": {},
   "outputs": [],
   "source": [
    "#tratado2 = cv2.medianBlur(blackAndWhiteImage, 3)"
   ]
  },
  {
   "cell_type": "code",
   "execution_count": 158,
   "metadata": {},
   "outputs": [],
   "source": [
    "#Conclusiones a tener en cuenta\n",
    "\n",
    "# - Cuanto mas se afina el resize mejor funciona al reconocedor de texto."
   ]
  },
  {
   "cell_type": "code",
   "execution_count": null,
   "metadata": {},
   "outputs": [],
   "source": []
  }
 ],
 "metadata": {
  "kernelspec": {
   "display_name": "Python 3",
   "language": "python",
   "name": "python3"
  },
  "language_info": {
   "codemirror_mode": {
    "name": "ipython",
    "version": 3
   },
   "file_extension": ".py",
   "mimetype": "text/x-python",
   "name": "python",
   "nbconvert_exporter": "python",
   "pygments_lexer": "ipython3",
   "version": "3.6.8"
  }
 },
 "nbformat": 4,
 "nbformat_minor": 4
}
